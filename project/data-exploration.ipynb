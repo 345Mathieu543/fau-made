{
 "cells": [
  {
   "attachments": {},
   "cell_type": "markdown",
   "metadata": {},
   "source": [
    "# Data Exploration"
   ]
  },
  {
   "cell_type": "markdown",
   "metadata": {},
   "source": [
    "## Preparation"
   ]
  },
  {
   "attachments": {},
   "cell_type": "markdown",
   "metadata": {},
   "source": [
    "### Install dependencies"
   ]
  },
  {
   "cell_type": "code",
   "execution_count": null,
   "metadata": {},
   "outputs": [],
   "source": [
    "%pip install pandas\n",
    "%pip install pandasql\n",
    "%pip install plotly\n",
    "%pip install nbformat\n",
    "%pip install folium\n",
    "%pip install kaleido"
   ]
  },
  {
   "cell_type": "markdown",
   "metadata": {},
   "source": [
    "### Import Modules"
   ]
  },
  {
   "cell_type": "code",
   "execution_count": null,
   "metadata": {},
   "outputs": [],
   "source": [
    "import sqlite3\n",
    "import pandas as pd\n",
    "import pandasql as ps\n",
    "import folium\n",
    "import plotly.express as px\n",
    "import plotly.graph_objects as go"
   ]
  },
  {
   "attachments": {},
   "cell_type": "markdown",
   "metadata": {},
   "source": [
    "### Load data"
   ]
  },
  {
   "cell_type": "code",
   "execution_count": null,
   "metadata": {},
   "outputs": [],
   "source": [
    "con = sqlite3.connect(\"../data/data.sqlite\")\n",
    "df = pd.read_sql_query(\"SELECT * FROM data;\", con)"
   ]
  },
  {
   "cell_type": "markdown",
   "metadata": {},
   "source": [
    "### Analyze preview and structure of the loaded data"
   ]
  },
  {
   "cell_type": "code",
   "execution_count": null,
   "metadata": {},
   "outputs": [],
   "source": [
    "df.head(20)"
   ]
  },
  {
   "cell_type": "code",
   "execution_count": null,
   "metadata": {},
   "outputs": [],
   "source": [
    "df.info()"
   ]
  },
  {
   "cell_type": "markdown",
   "metadata": {},
   "source": [
    "## Vizualize data"
   ]
  },
  {
   "cell_type": "markdown",
   "metadata": {},
   "source": [
    "### Plot locations of the measurement stations"
   ]
  },
  {
   "cell_type": "code",
   "execution_count": null,
   "metadata": {},
   "outputs": [],
   "source": [
    "m = folium.Map(location=[49.58, 11.00], zoom_start=12)\n",
    "folium.Marker([49.5030, 11.0549], tooltip=\"Weather Station: Nürnberg (03668)\").add_to(m)\n",
    "folium.Marker([49.6497, 11.0075], tooltip=\"Weather Station: Möhrendorf-Kleinseebach(01279)\").add_to(m)\n",
    "folium.Marker([49.5964, 11.0043], tooltip=\"Pedestrian Zone: Erlangen\").add_to(m)\n",
    "m"
   ]
  },
  {
   "attachments": {},
   "cell_type": "markdown",
   "metadata": {},
   "source": [
    "### Print min and max values of each column (values will be used later for plotting)"
   ]
  },
  {
   "cell_type": "code",
   "execution_count": null,
   "metadata": {},
   "outputs": [],
   "source": [
    "dateMin = df['date'].min()\n",
    "dateMax = df['date'].max()\n",
    "pedsMin = df['pedestrians'].min()\n",
    "pedsMax = df['pedestrians'].max()\n",
    "rainMin = df['rain'].min()\n",
    "rainMax = df['rain'].max()\n",
    "tempMin = df['temp'].min()\n",
    "tempMax = df['temp'].max()\n",
    "\n",
    "print(\"Min Date: \" + str(dateMin))\n",
    "print(\"Max Date: \" + str(dateMax))\n",
    "print(\"Min Pedestrians: \" + str(pedsMin))\n",
    "print(\"Max Pedestrians: \" + str(pedsMax))\n",
    "print(\"Min Rain: \" + str(rainMin))\n",
    "print(\"Max Rain: \" + str(rainMax))\n",
    "print(\"Min Temperature: \" + str(tempMin))\n",
    "print(\"Max Temperature: \" + str(tempMax))"
   ]
  },
  {
   "cell_type": "markdown",
   "metadata": {},
   "source": [
    "### Generate plots"
   ]
  },
  {
   "cell_type": "code",
   "execution_count": null,
   "metadata": {},
   "outputs": [],
   "source": [
    "fig = px.scatter(\n",
    "    df,\n",
    "    x=\"temp\",\n",
    "    y=\"rain\",\n",
    "    size=\"pedestrians\",\n",
    "    color=\"pedestrians\",\n",
    "    hover_data=[\"date\"],\n",
    "    labels={'date':'Date', 'pedestrians': 'Number of Pedestrians', 'temp': 'Temperature in °C', 'rain': 'Rain in mm'},\n",
    "    title=\"Rainfall and temperature in relation to the number of pedestrians.\",\n",
    "    width=1000,\n",
    "    height=400\n",
    ")\n",
    "fig.show()\n",
    "fig.write_image(\"plots/plot1.pdf\")\n",
    "\n",
    "fig = px.bar(\n",
    "    df,\n",
    "    x=\"date\",\n",
    "    y=\"pedestrians\",\n",
    "    color=\"rain\",\n",
    "    barmode=\"group\",\n",
    "    labels={'date':'Date', 'pedestrians': 'Number of Pedestrians', 'rain': 'Rain in mm'},\n",
    "    title=\"Number of pedestrians per day colored with rainfall in mm.\",\n",
    "    width=1000,\n",
    "    height=400\n",
    ")\n",
    "fig.show()\n",
    "fig.write_image(\"plots/plot2.pdf\")\n",
    "\n",
    "fig = px.bar(\n",
    "    df,\n",
    "    x=\"date\",\n",
    "    y=\"pedestrians\",\n",
    "    color=\"temp\",\n",
    "    barmode=\"group\",\n",
    "    labels={'date':'Date', 'pedestrians': 'Number of Pedestrians', 'temp': 'Temperature in °C'},\n",
    "    title=\"Number of pedestrians per day colored with temperature in °C.\",\n",
    "    width=1000,\n",
    "    height=400\n",
    ")\n",
    "fig.show()\n",
    "fig.write_image(\"plots/plot3.pdf\")"
   ]
  }
 ],
 "metadata": {
  "kernelspec": {
   "display_name": "Python 3",
   "language": "python",
   "name": "python3"
  },
  "language_info": {
   "codemirror_mode": {
    "name": "ipython",
    "version": 3
   },
   "file_extension": ".py",
   "mimetype": "text/x-python",
   "name": "python",
   "nbconvert_exporter": "python",
   "pygments_lexer": "ipython3",
   "version": "3.10.12"
  },
  "orig_nbformat": 4
 },
 "nbformat": 4,
 "nbformat_minor": 2
}
