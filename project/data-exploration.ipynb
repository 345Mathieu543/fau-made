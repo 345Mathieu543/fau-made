{
 "cells": [
  {
   "attachments": {},
   "cell_type": "markdown",
   "metadata": {},
   "source": [
    "# Data Exploration\n",
    "\n",
    "In this notebook describe your data exploration steps."
   ]
  },
  {
   "attachments": {},
   "cell_type": "markdown",
   "metadata": {},
   "source": [
    "## Install dependencies"
   ]
  },
  {
   "cell_type": "code",
   "execution_count": null,
   "metadata": {},
   "outputs": [],
   "source": [
    "%pip install pandas\n",
    "%pip install plotly\n",
    "%pip install nbformat"
   ]
  },
  {
   "attachments": {},
   "cell_type": "markdown",
   "metadata": {},
   "source": [
    "## Load data"
   ]
  },
  {
   "cell_type": "code",
   "execution_count": null,
   "metadata": {},
   "outputs": [],
   "source": [
    "# import the modules\n",
    "import sqlite3\n",
    "import pandas as pd\n",
    "import plotly.express as px\n",
    "import plotly.graph_objects as go\n",
    "\n",
    "# connect to the database\n",
    "con = sqlite3.connect(\"../data/data.sqlite\")\n",
    " \n",
    "# The following manipulations are done in SQL\n",
    "# All columns from the table pedestrians are beeing selected and some renamed, but from the column 'time of measurement' only the first 10 characters are selected\n",
    "# Additionally a column with row numbers is added to the table\n",
    "\n",
    "# As the temperature and rain data are stored in two different tables, the data is combined in two subqueries\n",
    "# The average of the temperature and rain data is calculated and a column with row numbers is added to the tables\n",
    "\n",
    "# The three subqueries are joined together and the columns 'time', 'weekday', 'pedestrians', 'rain' and 'temperature' are selected\n",
    "\n",
    "df = pd.read_sql_query('''\n",
    "\n",
    "WITH PedestrianData AS (\n",
    "    SELECT\n",
    "        SUBSTR(p.[time of measurement], 1, 10) AS day,\n",
    "        p.weekday AS weekday,\n",
    "        p.[pedestrians count] AS pedestrians,\n",
    "        ROW_NUMBER() OVER (ORDER BY p.[time of measurement]) AS row_num\n",
    "    FROM pedestrians p\n",
    "),\n",
    "RainData AS (\n",
    "    SELECT\n",
    "        (r1.[Niederschlag (6 bis 6 UTC)] + r2.[Niederschlag (6 bis 6 UTC)]) / 2 AS rain,\n",
    "        ROW_NUMBER() OVER (ORDER BY r1.[Niederschlag (6 bis 6 UTC)]) AS row_num\n",
    "    FROM rainmoe r1, rainnue r2\n",
    "),\n",
    "TemperatureData AS (\n",
    "    SELECT\n",
    "        (t1.[Mittelwert] + t2.[Mittelwert]) / 2 AS temperature,\n",
    "        ROW_NUMBER() OVER (ORDER BY t1.[Mittelwert]) AS row_num\n",
    "    FROM tempmoe t1, tempnue t2\n",
    ")\n",
    "\n",
    "SELECT\n",
    "    pd.day,\n",
    "    pd.weekday,\n",
    "    pd.pedestrians,\n",
    "    rd.rain,\n",
    "    td.temperature\n",
    "FROM\n",
    "    PedestrianData pd\n",
    "JOIN\n",
    "    RainData rd ON pd.row_num = rd.row_num\n",
    "JOIN\n",
    "    TemperatureData td ON pd.row_num = td.row_num;\n",
    "\n",
    "''', con)"
   ]
  },
  {
   "attachments": {},
   "cell_type": "markdown",
   "metadata": {},
   "source": [
    "### Look at the first rows"
   ]
  },
  {
   "cell_type": "code",
   "execution_count": null,
   "metadata": {},
   "outputs": [],
   "source": [
    "df.head(20)"
   ]
  },
  {
   "attachments": {},
   "cell_type": "markdown",
   "metadata": {},
   "source": [
    "### Data exploration\n",
    "Print some basic information about the data. Your data exploration would continue here."
   ]
  },
  {
   "cell_type": "code",
   "execution_count": null,
   "metadata": {},
   "outputs": [],
   "source": [
    "df.info()"
   ]
  },
  {
   "cell_type": "code",
   "execution_count": null,
   "metadata": {},
   "outputs": [],
   "source": [
    "# print min and max values of the columns\n",
    "\n",
    "print(\"Min Pedestrians: \" + str(df['pedestrians'].min()))\n",
    "print(\"Max Pedestrians: \" + str(df['pedestrians'].max()))\n",
    "print(\"Min Rain: \" + str(df['rain'].min()))\n",
    "print(\"Max Rain: \" + str(df['rain'].max()))\n",
    "print(\"Min Temperature: \" + str(df['temperature'].min()))\n",
    "print(\"Max Temperature: \" + str(df['temperature'].max()))"
   ]
  },
  {
   "cell_type": "markdown",
   "metadata": {},
   "source": [
    "### Print some figures"
   ]
  },
  {
   "cell_type": "code",
   "execution_count": null,
   "metadata": {},
   "outputs": [],
   "source": [
    "fig = px.scatter(\n",
    "    df,\n",
    "    x=\"temperature\",\n",
    "    y=\"rain\",\n",
    "    size=\"pedestrians\",\n",
    "    color=\"pedestrians\",\n",
    "    hover_data=[\"day\"],\n",
    "    labels={'day':'Date', 'pedestrians': 'Number of Pedestrians', 'temperature': 'Temperature in °C', 'rain': 'Rain in mm'},\n",
    "    title=\"Rainfall and temperature in relation to the number of pedestrians.\"\n",
    ")\n",
    "fig.show()\n",
    "\n",
    "fig = px.bar(\n",
    "    df,\n",
    "    x=\"day\",\n",
    "    y=\"pedestrians\",\n",
    "    color=\"rain\",\n",
    "    barmode=\"group\",\n",
    "    labels={'day':'Date', 'pedestrians': 'Number of Pedestrians', 'rain': 'Rain in mm'},\n",
    "    title=\"Number of pedestrians per day colored with rainfall in mm.\"\n",
    ")\n",
    "fig.show()\n",
    "\n",
    "fig = px.bar(\n",
    "    df,\n",
    "    x=\"day\",\n",
    "    y=\"pedestrians\",\n",
    "    color=\"temperature\",\n",
    "    barmode=\"group\",\n",
    "    labels={'day':'Date', 'pedestrians': 'Number of Pedestrians', 'temperature': 'Temperature in °C'},\n",
    "    title=\"Number of pedestrians per day colored with temperature in °C.\"\n",
    ")\n",
    "fig.show()"
   ]
  }
 ],
 "metadata": {
  "kernelspec": {
   "display_name": "Python 3",
   "language": "python",
   "name": "python3"
  },
  "language_info": {
   "codemirror_mode": {
    "name": "ipython",
    "version": 3
   },
   "file_extension": ".py",
   "mimetype": "text/x-python",
   "name": "python",
   "nbconvert_exporter": "python",
   "pygments_lexer": "ipython3",
   "version": "3.10.12"
  },
  "orig_nbformat": 4
 },
 "nbformat": 4,
 "nbformat_minor": 2
}
