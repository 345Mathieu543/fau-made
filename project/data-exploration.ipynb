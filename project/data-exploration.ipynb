{
 "cells": [
  {
   "attachments": {},
   "cell_type": "markdown",
   "metadata": {},
   "source": [
    "# Data Exploration\n",
    "\n",
    "In this notebook describe your data exploration steps."
   ]
  },
  {
   "attachments": {},
   "cell_type": "markdown",
   "metadata": {},
   "source": [
    "## Install dependencies"
   ]
  },
  {
   "cell_type": "code",
   "execution_count": null,
   "metadata": {},
   "outputs": [],
   "source": [
    "%pip install pandas\n",
    "%pip install plotly\n",
    "%pip install nbformat\n",
    "%pip install folium"
   ]
  },
  {
   "attachments": {},
   "cell_type": "markdown",
   "metadata": {},
   "source": [
    "## Load data"
   ]
  },
  {
   "cell_type": "code",
   "execution_count": null,
   "metadata": {},
   "outputs": [],
   "source": [
    "# import the modules\n",
    "import sqlite3\n",
    "import pandas as pd\n",
    "import folium\n",
    "import plotly.express as px\n",
    "import plotly.graph_objects as go\n",
    "\n",
    "# connect to the database\n",
    "con = sqlite3.connect(\"../data/data.sqlite\")\n",
    " \n",
    "# The following manipulations are done in SQL\n",
    "# As the temperature and rain data are stored in two different tables, the data is combined in two subqueries\n",
    "# The average of the temperature and rain data is calculated and a column with row numbers is added to the tables\n",
    "# The two subqueries are joined together with thew table 'pedestrians' and the columns 'date', 'pedestrians', 'rain' and 'temp' are selected\n",
    "\n",
    "df = pd.read_sql_query('''\n",
    "\n",
    "WITH RainData AS (\n",
    "    SELECT\n",
    "        r1.MESS_DATUM AS date,\n",
    "        (r1.[  RS] + r2.[  RS]) / 2 AS rain\n",
    "    FROM rainmoe r1\n",
    "    JOIN rainnue r2 ON r1.MESS_DATUM = r2.MESS_DATUM\n",
    "),\n",
    "TempData AS (\n",
    "    SELECT\n",
    "        t1.MESS_DATUM AS date,\n",
    "        (t1.[ TMK] + t2.[ TMK]) / 2 AS temp\n",
    "    FROM tempmoe t1\n",
    "    JOIN tempnue t2 ON t1.MESS_DATUM = t2.MESS_DATUM\n",
    ")\n",
    "\n",
    "SELECT\n",
    "    pd.timestamp AS date,\n",
    "    pd.pedestrians_count AS pedestrians,\n",
    "    rd.rain,\n",
    "    td.temp\n",
    "FROM pedestrians pd\n",
    "JOIN RainData rd ON pd.timestamp = rd.date\n",
    "JOIN TempData td ON pd.timestamp = td.date;\n",
    "\n",
    "''', con)"
   ]
  },
  {
   "cell_type": "code",
   "execution_count": null,
   "metadata": {},
   "outputs": [],
   "source": [
    "df.head(20)"
   ]
  },
  {
   "cell_type": "code",
   "execution_count": null,
   "metadata": {},
   "outputs": [],
   "source": [
    "df.info()"
   ]
  },
  {
   "cell_type": "markdown",
   "metadata": {},
   "source": [
    "### Locations"
   ]
  },
  {
   "cell_type": "code",
   "execution_count": null,
   "metadata": {},
   "outputs": [],
   "source": [
    "m = folium.Map(location=[49.58, 11.00], zoom_start=12)\n",
    "folium.Marker([49.5030, 11.0549], tooltip=\"Weather Station: Nürnberg (03668)\").add_to(m)\n",
    "folium.Marker([49.6497, 11.0075], tooltip=\"Weather Station: Möhrendorf-Kleinseebach(01279)\").add_to(m)\n",
    "folium.Marker([49.5964, 11.0043], tooltip=\"Pedestrian Zone: Erlangen\").add_to(m)\n",
    "m"
   ]
  },
  {
   "attachments": {},
   "cell_type": "markdown",
   "metadata": {},
   "source": [
    "### Data exploration\n",
    "Print some basic information about the data. Your data exploration would continue here."
   ]
  },
  {
   "cell_type": "code",
   "execution_count": null,
   "metadata": {},
   "outputs": [],
   "source": [
    "# print min and max values of the columns\n",
    "\n",
    "print(\"Min Pedestrians: \" + str(df['pedestrians'].min()))\n",
    "print(\"Max Pedestrians: \" + str(df['pedestrians'].max()))\n",
    "print(\"Min Rain: \" + str(df['rain'].min()))\n",
    "print(\"Max Rain: \" + str(df['rain'].max()))\n",
    "print(\"Min Temperature: \" + str(df['temp'].min()))\n",
    "print(\"Max Temperature: \" + str(df['temp'].max()))"
   ]
  },
  {
   "cell_type": "markdown",
   "metadata": {},
   "source": [
    "### Print some figures"
   ]
  },
  {
   "cell_type": "code",
   "execution_count": null,
   "metadata": {},
   "outputs": [],
   "source": [
    "fig = px.scatter(\n",
    "    df,\n",
    "    x=\"temp\",\n",
    "    y=\"rain\",\n",
    "    size=\"pedestrians\",\n",
    "    color=\"pedestrians\",\n",
    "    hover_data=[\"date\"],\n",
    "    labels={'date':'Date', 'pedestrians': 'Number of Pedestrians', 'temp': 'Temperature in °C', 'rain': 'Rain in mm'},\n",
    "    title=\"Rainfall and temperature in relation to the number of pedestrians.\"\n",
    ")\n",
    "fig.show()\n",
    "\n",
    "fig = px.bar(\n",
    "    df,\n",
    "    x=\"date\",\n",
    "    y=\"pedestrians\",\n",
    "    color=\"rain\",\n",
    "    barmode=\"group\",\n",
    "    labels={'date':'Date', 'pedestrians': 'Number of Pedestrians', 'rain': 'Rain in mm'},\n",
    "    title=\"Number of pedestrians per day colored with rainfall in mm.\"\n",
    ")\n",
    "fig.show()\n",
    "\n",
    "fig = px.bar(\n",
    "    df,\n",
    "    x=\"date\",\n",
    "    y=\"pedestrians\",\n",
    "    color=\"temp\",\n",
    "    barmode=\"group\",\n",
    "    labels={'date':'Date', 'pedestrians': 'Number of Pedestrians', 'temp': 'Temperature in °C'},\n",
    "    title=\"Number of pedestrians per day colored with temperature in °C.\"\n",
    ")\n",
    "fig.show()"
   ]
  }
 ],
 "metadata": {
  "kernelspec": {
   "display_name": "Python 3",
   "language": "python",
   "name": "python3"
  },
  "language_info": {
   "codemirror_mode": {
    "name": "ipython",
    "version": 3
   },
   "file_extension": ".py",
   "mimetype": "text/x-python",
   "name": "python",
   "nbconvert_exporter": "python",
   "pygments_lexer": "ipython3",
   "version": "3.10.12"
  },
  "orig_nbformat": 4
 },
 "nbformat": 4,
 "nbformat_minor": 2
}
